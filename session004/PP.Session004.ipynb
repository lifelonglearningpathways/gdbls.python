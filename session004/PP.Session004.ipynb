{
 "cells": [
  {
   "cell_type": "code",
   "execution_count": 3,
   "id": "d47637d5-a619-492e-aced-1082e18522c9",
   "metadata": {},
   "outputs": [
    {
     "name": "stdin",
     "output_type": "stream",
     "text": [
      "Enter your name Rohit VErma\n",
      "Enter your age 34\n"
     ]
    },
    {
     "name": "stdout",
     "output_type": "stream",
     "text": [
      "Student data is Rohit VErma 34\n"
     ]
    }
   ],
   "source": [
    "name=input(\"Enter your name\")\n",
    "age=int(input(\"Enter your age\"))\n",
    "print(\"Student data is\",name,age)"
   ]
  },
  {
   "cell_type": "code",
   "execution_count": 4,
   "id": "6f7da4e3-4818-40bb-b778-52a19549b5c0",
   "metadata": {},
   "outputs": [
    {
     "data": {
      "text/plain": [
       "int"
      ]
     },
     "execution_count": 4,
     "metadata": {},
     "output_type": "execute_result"
    }
   ],
   "source": [
    "type(age)"
   ]
  },
  {
   "cell_type": "code",
   "execution_count": 6,
   "id": "9c4fcf1a-6d14-471d-a0e5-286cb50c495e",
   "metadata": {},
   "outputs": [
    {
     "name": "stdin",
     "output_type": "stream",
     "text": [
      "Enter your name Nitin Verma\n",
      "Enter your age 34\n"
     ]
    },
    {
     "name": "stdout",
     "output_type": "stream",
     "text": [
      "Nitin Verma is a valid voter\n"
     ]
    }
   ],
   "source": [
    "name=input(\"Enter your name\")\n",
    "age=int(input(\"Enter your age\"))\n",
    "if age>=18:\n",
    "    print(name,\"is a valid voter\")\n",
    "else:\n",
    "    print(name,\"is not a valid voter\")"
   ]
  },
  {
   "cell_type": "code",
   "execution_count": null,
   "id": "9c642e6b-0172-48e4-bc14-accb38c1c027",
   "metadata": {},
   "outputs": [],
   "source": [
    "name=input('Enter your name')\n",
    "print('Enter Marks of three subjects')\n",
    "m1=float(input())\n",
    "m2=float(input())\n",
    "m3=float(input())\n",
    "\n",
    "avg=(m1+m2+m3)/3\n",
    "\n",
    "if avg>=80:\n",
    "    grade='A+'\n",
    "elif avg>=70:\n",
    "    grade='A'\n",
    "elif avg>=60:\n",
    "    grade='B+'\n",
    "elif avg>=50:\n",
    "    grade='B'\n",
    "else:\n",
    "    grade='F'\n",
    "\n",
    "print('Grade of',name,'is',grade)"
   ]
  }
 ],
 "metadata": {
  "kernelspec": {
   "display_name": "Python 3 (ipykernel)",
   "language": "python",
   "name": "python3"
  },
  "language_info": {
   "codemirror_mode": {
    "name": "ipython",
    "version": 3
   },
   "file_extension": ".py",
   "mimetype": "text/x-python",
   "name": "python",
   "nbconvert_exporter": "python",
   "pygments_lexer": "ipython3",
   "version": "3.11.7"
  }
 },
 "nbformat": 4,
 "nbformat_minor": 5
}
