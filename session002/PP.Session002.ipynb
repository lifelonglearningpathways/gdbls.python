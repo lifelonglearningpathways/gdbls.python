{
 "cells": [
  {
   "cell_type": "code",
   "execution_count": 1,
   "id": "43978f9e-622d-4bea-a28b-123459202285",
   "metadata": {},
   "outputs": [
    {
     "name": "stdout",
     "output_type": "stream",
     "text": [
      "Product of 5 and 6 is 30\n"
     ]
    }
   ],
   "source": [
    "x=5\n",
    "y=6\n",
    "p=x*y\n",
    "print(\"Product of\",x,\"and\",y,\"is\",p)"
   ]
  },
  {
   "cell_type": "code",
   "execution_count": null,
   "id": "bc59ddae-609c-4ca5-afd5-fff240887e3a",
   "metadata": {},
   "outputs": [],
   "source": []
  }
 ],
 "metadata": {
  "kernelspec": {
   "display_name": "Python 3 (ipykernel)",
   "language": "python",
   "name": "python3"
  },
  "language_info": {
   "codemirror_mode": {
    "name": "ipython",
    "version": 3
   },
   "file_extension": ".py",
   "mimetype": "text/x-python",
   "name": "python",
   "nbconvert_exporter": "python",
   "pygments_lexer": "ipython3",
   "version": "3.11.7"
  }
 },
 "nbformat": 4,
 "nbformat_minor": 5
}
