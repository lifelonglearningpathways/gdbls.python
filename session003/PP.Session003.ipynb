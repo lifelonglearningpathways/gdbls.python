{
 "cells": [
  {
   "cell_type": "code",
   "execution_count": 2,
   "id": "e185975e-843a-49f2-8745-830d5234aefe",
   "metadata": {},
   "outputs": [],
   "source": [
    "x=123\n",
    "y=123.90\n",
    "name='Rohit Kumar'\n",
    "address=\"R-13/112, Raj Nagar\"\n",
    "married=True"
   ]
  },
  {
   "cell_type": "code",
   "execution_count": 7,
   "id": "6471a274-365e-4b1f-b39b-f5d781db5dc2",
   "metadata": {},
   "outputs": [
    {
     "data": {
      "text/plain": [
       "int"
      ]
     },
     "execution_count": 7,
     "metadata": {},
     "output_type": "execute_result"
    }
   ],
   "source": [
    "type(x)"
   ]
  },
  {
   "cell_type": "code",
   "execution_count": 8,
   "id": "e1b16f1f-4516-497c-a8e8-8fe459c69c4f",
   "metadata": {},
   "outputs": [
    {
     "data": {
      "text/plain": [
       "float"
      ]
     },
     "execution_count": 8,
     "metadata": {},
     "output_type": "execute_result"
    }
   ],
   "source": [
    "type(y)"
   ]
  },
  {
   "cell_type": "code",
   "execution_count": 9,
   "id": "afb7fb96-9779-47d4-b9a9-cb0d8bcab36d",
   "metadata": {},
   "outputs": [
    {
     "data": {
      "text/plain": [
       "str"
      ]
     },
     "execution_count": 9,
     "metadata": {},
     "output_type": "execute_result"
    }
   ],
   "source": [
    "type(name)"
   ]
  },
  {
   "cell_type": "code",
   "execution_count": 10,
   "id": "bafdc56a-8af5-457e-bf4c-bfaa02d87978",
   "metadata": {},
   "outputs": [
    {
     "data": {
      "text/plain": [
       "bool"
      ]
     },
     "execution_count": 10,
     "metadata": {},
     "output_type": "execute_result"
    }
   ],
   "source": [
    "type(married)"
   ]
  },
  {
   "cell_type": "code",
   "execution_count": 12,
   "id": "240593fb-a3b4-457a-88d1-5d02f3a87351",
   "metadata": {},
   "outputs": [],
   "source": [
    "remarks='''He is \n",
    "a nice person.\n",
    "He lives in Delhi'''"
   ]
  },
  {
   "cell_type": "code",
   "execution_count": 13,
   "id": "47b523c2-ee72-40c3-b1d5-2aff1dd3a74b",
   "metadata": {},
   "outputs": [
    {
     "data": {
      "text/plain": [
       "'He is \\na nice person.\\nHe lives in Delhi'"
      ]
     },
     "execution_count": 13,
     "metadata": {},
     "output_type": "execute_result"
    }
   ],
   "source": [
    "remarks"
   ]
  },
  {
   "cell_type": "code",
   "execution_count": 14,
   "id": "9d0c30de-5c18-4a84-b1b4-48e3a8915da8",
   "metadata": {},
   "outputs": [
    {
     "data": {
      "text/plain": [
       "'Hello\\nHi\\nKapil'"
      ]
     },
     "execution_count": 14,
     "metadata": {},
     "output_type": "execute_result"
    }
   ],
   "source": [
    "data=\"Hello\\nHi\\nKapil\"\n",
    "data"
   ]
  },
  {
   "cell_type": "code",
   "execution_count": 15,
   "id": "3e716ff3-8700-4d2f-8269-eda0b593bda6",
   "metadata": {},
   "outputs": [
    {
     "name": "stdout",
     "output_type": "stream",
     "text": [
      "Hello\n",
      "Hi\n",
      "Kapil\n"
     ]
    }
   ],
   "source": [
    "print(data)"
   ]
  },
  {
   "cell_type": "code",
   "execution_count": 16,
   "id": "967c0605-6eec-4452-9d94-2226f46b1a50",
   "metadata": {},
   "outputs": [
    {
     "name": "stdout",
     "output_type": "stream",
     "text": [
      "He is \n",
      "a nice person.\n",
      "He lives in Delhi\n"
     ]
    }
   ],
   "source": [
    "print(remarks)"
   ]
  },
  {
   "cell_type": "code",
   "execution_count": 17,
   "id": "2fb7f123-cf4f-422c-b6cf-31d61b44d9c0",
   "metadata": {},
   "outputs": [],
   "source": [
    "a=5\n",
    "b=2"
   ]
  },
  {
   "cell_type": "code",
   "execution_count": 18,
   "id": "ccb15437-a750-4e91-90bd-1a152c0e201d",
   "metadata": {},
   "outputs": [
    {
     "name": "stdout",
     "output_type": "stream",
     "text": [
      "7 3 10 2.5 2 1 25\n"
     ]
    }
   ],
   "source": [
    "print(a+b, a-b, a*b, a/b, a//b, a%b, a**b)"
   ]
  },
  {
   "cell_type": "code",
   "execution_count": 19,
   "id": "f8c657ff-5271-4b99-a7d4-93ba95a9d4a2",
   "metadata": {},
   "outputs": [
    {
     "ename": "TypeError",
     "evalue": "can only concatenate str (not \"int\") to str",
     "output_type": "error",
     "traceback": [
      "\u001b[1;31m---------------------------------------------------------------------------\u001b[0m",
      "\u001b[1;31mTypeError\u001b[0m                                 Traceback (most recent call last)",
      "Cell \u001b[1;32mIn[19], line 3\u001b[0m\n\u001b[0;32m      1\u001b[0m x\u001b[38;5;241m=\u001b[39m\u001b[38;5;124m'\u001b[39m\u001b[38;5;124m45\u001b[39m\u001b[38;5;124m'\u001b[39m\n\u001b[0;32m      2\u001b[0m y\u001b[38;5;241m=\u001b[39m\u001b[38;5;241m90\u001b[39m\n\u001b[1;32m----> 3\u001b[0m z\u001b[38;5;241m=\u001b[39mx\u001b[38;5;241m+\u001b[39my\n",
      "\u001b[1;31mTypeError\u001b[0m: can only concatenate str (not \"int\") to str"
     ]
    }
   ],
   "source": [
    "x='45'\n",
    "y=90\n",
    "z=x+y"
   ]
  },
  {
   "cell_type": "code",
   "execution_count": 20,
   "id": "cd8e0c67-81f1-468d-9bf8-3eb800f62aee",
   "metadata": {},
   "outputs": [
    {
     "name": "stdout",
     "output_type": "stream",
     "text": [
      "135\n"
     ]
    }
   ],
   "source": [
    "z=int(x)+y\n",
    "print(z)"
   ]
  },
  {
   "cell_type": "code",
   "execution_count": 21,
   "id": "a4ae5db4-ad83-4352-b462-f69f3985e1cc",
   "metadata": {},
   "outputs": [
    {
     "name": "stdout",
     "output_type": "stream",
     "text": [
      "4590\n"
     ]
    }
   ],
   "source": [
    "z=x+str(y)\n",
    "print(z)"
   ]
  },
  {
   "cell_type": "code",
   "execution_count": 22,
   "id": "af42ebdc-9a55-48af-8bd3-249c06b2d800",
   "metadata": {},
   "outputs": [
    {
     "name": "stdout",
     "output_type": "stream",
     "text": [
      "4545454545\n"
     ]
    }
   ],
   "source": [
    "z='45'*5\n",
    "print(z)"
   ]
  },
  {
   "cell_type": "code",
   "execution_count": 24,
   "id": "f9c77302-13ed-4a6a-a3a9-b5552b5366ba",
   "metadata": {},
   "outputs": [
    {
     "name": "stdout",
     "output_type": "stream",
     "text": [
      "________________________________________\n"
     ]
    }
   ],
   "source": [
    "print('_'*40)"
   ]
  },
  {
   "cell_type": "code",
   "execution_count": null,
   "id": "d1f9c834-f6a2-4fc3-8739-441c0795b5d3",
   "metadata": {},
   "outputs": [],
   "source": []
  }
 ],
 "metadata": {
  "kernelspec": {
   "display_name": "Python 3 (ipykernel)",
   "language": "python",
   "name": "python3"
  },
  "language_info": {
   "codemirror_mode": {
    "name": "ipython",
    "version": 3
   },
   "file_extension": ".py",
   "mimetype": "text/x-python",
   "name": "python",
   "nbconvert_exporter": "python",
   "pygments_lexer": "ipython3",
   "version": "3.11.7"
  }
 },
 "nbformat": 4,
 "nbformat_minor": 5
}
